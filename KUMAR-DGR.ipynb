{
 "cells": [
  {
   "cell_type": "code",
   "execution_count": 1,
   "id": "80e140f6",
   "metadata": {
    "scrolled": true
   },
   "outputs": [
    {
     "name": "stdout",
     "output_type": "stream",
     "text": [
      "Defaulting to user installation because normal site-packages is not writeable\n",
      "Requirement already satisfied: pandas in c:\\programdata\\anaconda3\\lib\\site-packages (2.0.3)\n",
      "Requirement already satisfied: python-dateutil>=2.8.2 in c:\\programdata\\anaconda3\\lib\\site-packages (from pandas) (2.8.2)\n",
      "Requirement already satisfied: pytz>=2020.1 in c:\\programdata\\anaconda3\\lib\\site-packages (from pandas) (2023.3.post1)\n",
      "Requirement already satisfied: tzdata>=2022.1 in c:\\programdata\\anaconda3\\lib\\site-packages (from pandas) (2023.3)\n",
      "Requirement already satisfied: numpy>=1.21.0 in c:\\programdata\\anaconda3\\lib\\site-packages (from pandas) (1.24.3)\n",
      "Requirement already satisfied: six>=1.5 in c:\\programdata\\anaconda3\\lib\\site-packages (from python-dateutil>=2.8.2->pandas) (1.16.0)\n"
     ]
    }
   ],
   "source": [
    "!pip install pandas"
   ]
  },
  {
   "cell_type": "code",
   "execution_count": 2,
   "id": "372c76c7",
   "metadata": {},
   "outputs": [],
   "source": [
    "import pandas as pd"
   ]
  },
  {
   "cell_type": "code",
   "execution_count": 38,
   "id": "ce5ac41e",
   "metadata": {
    "scrolled": true
   },
   "outputs": [],
   "source": [
    "# importing Sungrow file and removing the starting rows\n",
    "df1 = pd.read_csv(\"10.csv\",skiprows = 4)\n"
   ]
  },
  {
   "cell_type": "code",
   "execution_count": 39,
   "id": "e3e6157a",
   "metadata": {},
   "outputs": [
    {
     "data": {
      "text/plain": [
       "Index(['Plant', 'Installed Power (kWp)', 'Grid-connection Date',\n",
       "       'Yield Today (kWh)', 'Total Yield (kWh)', 'Today Revenue',\n",
       "       'Total CO₂ reduction (kg)', 'Plant Address'],\n",
       "      dtype='object')"
      ]
     },
     "execution_count": 39,
     "metadata": {},
     "output_type": "execute_result"
    }
   ],
   "source": [
    "# checking the columns header names\n",
    "df1.columns"
   ]
  },
  {
   "cell_type": "code",
   "execution_count": 42,
   "id": "6815aa9b",
   "metadata": {},
   "outputs": [],
   "source": [
    "#removing the extra columns\n",
    "df1= df1[['Plant', 'Installed Power (kWp)', 'Yield Today (kWh)']]\n",
    "\n"
   ]
  },
  {
   "cell_type": "code",
   "execution_count": 43,
   "id": "65bccf35",
   "metadata": {},
   "outputs": [
    {
     "data": {
      "text/plain": [
       "Index(['Plant', 'Installed Power (kWp)', 'Yield Today (kWh)'], dtype='object')"
      ]
     },
     "execution_count": 43,
     "metadata": {},
     "output_type": "execute_result"
    }
   ],
   "source": [
    "# checking the columns header names\n",
    "df1.columns"
   ]
  },
  {
   "cell_type": "code",
   "execution_count": 45,
   "id": "935612ea",
   "metadata": {},
   "outputs": [
    {
     "data": {
      "text/html": [
       "<div>\n",
       "<style scoped>\n",
       "    .dataframe tbody tr th:only-of-type {\n",
       "        vertical-align: middle;\n",
       "    }\n",
       "\n",
       "    .dataframe tbody tr th {\n",
       "        vertical-align: top;\n",
       "    }\n",
       "\n",
       "    .dataframe thead th {\n",
       "        text-align: right;\n",
       "    }\n",
       "</style>\n",
       "<table border=\"1\" class=\"dataframe\">\n",
       "  <thead>\n",
       "    <tr style=\"text-align: right;\">\n",
       "      <th></th>\n",
       "      <th>Site Name</th>\n",
       "      <th>DC Capacity</th>\n",
       "      <th>Generation</th>\n",
       "    </tr>\n",
       "  </thead>\n",
       "  <tbody>\n",
       "    <tr>\n",
       "      <th>0</th>\n",
       "      <td>Nitte</td>\n",
       "      <td>483.00</td>\n",
       "      <td>1808.0</td>\n",
       "    </tr>\n",
       "    <tr>\n",
       "      <th>1</th>\n",
       "      <td>IBM</td>\n",
       "      <td>52.00</td>\n",
       "      <td>132.0</td>\n",
       "    </tr>\n",
       "    <tr>\n",
       "      <th>2</th>\n",
       "      <td>District</td>\n",
       "      <td>60.06</td>\n",
       "      <td>271.0</td>\n",
       "    </tr>\n",
       "    <tr>\n",
       "      <th>3</th>\n",
       "      <td>District</td>\n",
       "      <td>70.00</td>\n",
       "      <td>363.9</td>\n",
       "    </tr>\n",
       "    <tr>\n",
       "      <th>4</th>\n",
       "      <td>Gateway</td>\n",
       "      <td>140.00</td>\n",
       "      <td>361.7</td>\n",
       "    </tr>\n",
       "    <tr>\n",
       "      <th>5</th>\n",
       "      <td>Decathlon</td>\n",
       "      <td>70.00</td>\n",
       "      <td>247.8</td>\n",
       "    </tr>\n",
       "    <tr>\n",
       "      <th>6</th>\n",
       "      <td>Decathlon</td>\n",
       "      <td>40.50</td>\n",
       "      <td>127.0</td>\n",
       "    </tr>\n",
       "    <tr>\n",
       "      <th>7</th>\n",
       "      <td>Decathlon</td>\n",
       "      <td>64.80</td>\n",
       "      <td>91.6</td>\n",
       "    </tr>\n",
       "    <tr>\n",
       "      <th>8</th>\n",
       "      <td>Decathlon</td>\n",
       "      <td>42.00</td>\n",
       "      <td>136.8</td>\n",
       "    </tr>\n",
       "    <tr>\n",
       "      <th>9</th>\n",
       "      <td>Decathlon</td>\n",
       "      <td>70.00</td>\n",
       "      <td>247.9</td>\n",
       "    </tr>\n",
       "  </tbody>\n",
       "</table>\n",
       "</div>"
      ],
      "text/plain": [
       "   Site Name  DC Capacity  Generation\n",
       "0      Nitte       483.00      1808.0\n",
       "1        IBM        52.00       132.0\n",
       "2   District        60.06       271.0\n",
       "3   District        70.00       363.9\n",
       "4    Gateway       140.00       361.7\n",
       "5  Decathlon        70.00       247.8\n",
       "6  Decathlon        40.50       127.0\n",
       "7  Decathlon        64.80        91.6\n",
       "8  Decathlon        42.00       136.8\n",
       "9  Decathlon        70.00       247.9"
      ]
     },
     "execution_count": 45,
     "metadata": {},
     "output_type": "execute_result"
    }
   ],
   "source": [
    "# Renaming required columns\n",
    "df2 = df1.rename(columns={\n",
    "    'Plant': 'Site Name',\n",
    "    'Installed Power (kWp)': 'DC Capacity',\n",
    "    'Yield Today (kWh)': 'Generation'\n",
    "})\n",
    "# Remove name after space in 'Site Name' column\n",
    "df2['Site Name'] = df2['Site Name'].str.split().str[0]\n",
    "# checking the table\n",
    "df2.head(10)"
   ]
  },
  {
   "cell_type": "code",
   "execution_count": 46,
   "id": "9526ad20",
   "metadata": {},
   "outputs": [],
   "source": [
    "# importing the wattmon file and removing the row 1\n",
    "df51 = pd.read_csv(\"50.csv\",skiprows = 1)\n"
   ]
  },
  {
   "cell_type": "code",
   "execution_count": 47,
   "id": "fd84c59a",
   "metadata": {},
   "outputs": [
    {
     "data": {
      "text/plain": [
       "Index(['Site ID', 'Time', 'kW_DC_Capacity', 'kWh_Daily_Generation',\n",
       "       'kWh_Day_Irradiance'],\n",
       "      dtype='object')"
      ]
     },
     "execution_count": 47,
     "metadata": {},
     "output_type": "execute_result"
    }
   ],
   "source": [
    "df51.columns"
   ]
  },
  {
   "cell_type": "code",
   "execution_count": 48,
   "id": "44330ae3",
   "metadata": {},
   "outputs": [
    {
     "data": {
      "text/html": [
       "<div>\n",
       "<style scoped>\n",
       "    .dataframe tbody tr th:only-of-type {\n",
       "        vertical-align: middle;\n",
       "    }\n",
       "\n",
       "    .dataframe tbody tr th {\n",
       "        vertical-align: top;\n",
       "    }\n",
       "\n",
       "    .dataframe thead th {\n",
       "        text-align: right;\n",
       "    }\n",
       "</style>\n",
       "<table border=\"1\" class=\"dataframe\">\n",
       "  <thead>\n",
       "    <tr style=\"text-align: right;\">\n",
       "      <th></th>\n",
       "      <th>Site ID</th>\n",
       "      <th>kW_DC_Capacity</th>\n",
       "      <th>kWh_Daily_Generation</th>\n",
       "      <th>kWh_Day_Irradiance</th>\n",
       "    </tr>\n",
       "  </thead>\n",
       "  <tbody>\n",
       "    <tr>\n",
       "      <th>0</th>\n",
       "      <td>FM</td>\n",
       "      <td>171.14</td>\n",
       "      <td>511.400</td>\n",
       "      <td>3.896</td>\n",
       "    </tr>\n",
       "    <tr>\n",
       "      <th>1</th>\n",
       "      <td>SJS 2</td>\n",
       "      <td>0.00</td>\n",
       "      <td>0.000</td>\n",
       "      <td>0.000</td>\n",
       "    </tr>\n",
       "    <tr>\n",
       "      <th>2</th>\n",
       "      <td>SJS 1</td>\n",
       "      <td>0.00</td>\n",
       "      <td>0.000</td>\n",
       "      <td>0.000</td>\n",
       "    </tr>\n",
       "    <tr>\n",
       "      <th>3</th>\n",
       "      <td>IBS</td>\n",
       "      <td>120.00</td>\n",
       "      <td>0.002</td>\n",
       "      <td>0.000</td>\n",
       "    </tr>\n",
       "    <tr>\n",
       "      <th>4</th>\n",
       "      <td>Flipkart_Hosur</td>\n",
       "      <td>100.00</td>\n",
       "      <td>365.000</td>\n",
       "      <td>4.934</td>\n",
       "    </tr>\n",
       "  </tbody>\n",
       "</table>\n",
       "</div>"
      ],
      "text/plain": [
       "          Site ID  kW_DC_Capacity  kWh_Daily_Generation  kWh_Day_Irradiance\n",
       "0              FM          171.14               511.400               3.896\n",
       "1           SJS 2            0.00                 0.000               0.000\n",
       "2           SJS 1            0.00                 0.000               0.000\n",
       "3             IBS          120.00                 0.002               0.000\n",
       "4  Flipkart_Hosur          100.00               365.000               4.934"
      ]
     },
     "execution_count": 48,
     "metadata": {},
     "output_type": "execute_result"
    }
   ],
   "source": [
    "#removing the extra columns\n",
    "df51= df51[['Site ID', 'kW_DC_Capacity', 'kWh_Daily_Generation','kWh_Day_Irradiance']]\n",
    "# checking the table for above code\n",
    "df51.head()"
   ]
  },
  {
   "cell_type": "code",
   "execution_count": 50,
   "id": "2e8d4403",
   "metadata": {},
   "outputs": [
    {
     "data": {
      "text/html": [
       "<div>\n",
       "<style scoped>\n",
       "    .dataframe tbody tr th:only-of-type {\n",
       "        vertical-align: middle;\n",
       "    }\n",
       "\n",
       "    .dataframe tbody tr th {\n",
       "        vertical-align: top;\n",
       "    }\n",
       "\n",
       "    .dataframe thead th {\n",
       "        text-align: right;\n",
       "    }\n",
       "</style>\n",
       "<table border=\"1\" class=\"dataframe\">\n",
       "  <thead>\n",
       "    <tr style=\"text-align: right;\">\n",
       "      <th></th>\n",
       "      <th>Site Name</th>\n",
       "      <th>DC Capacity</th>\n",
       "      <th>Generation</th>\n",
       "      <th>Irradiance</th>\n",
       "    </tr>\n",
       "  </thead>\n",
       "  <tbody>\n",
       "    <tr>\n",
       "      <th>0</th>\n",
       "      <td>FM</td>\n",
       "      <td>171.14</td>\n",
       "      <td>511.400</td>\n",
       "      <td>3.896</td>\n",
       "    </tr>\n",
       "    <tr>\n",
       "      <th>1</th>\n",
       "      <td>SJS</td>\n",
       "      <td>0.00</td>\n",
       "      <td>0.000</td>\n",
       "      <td>0.000</td>\n",
       "    </tr>\n",
       "    <tr>\n",
       "      <th>2</th>\n",
       "      <td>SJS</td>\n",
       "      <td>0.00</td>\n",
       "      <td>0.000</td>\n",
       "      <td>0.000</td>\n",
       "    </tr>\n",
       "    <tr>\n",
       "      <th>3</th>\n",
       "      <td>IBS</td>\n",
       "      <td>120.00</td>\n",
       "      <td>0.002</td>\n",
       "      <td>0.000</td>\n",
       "    </tr>\n",
       "    <tr>\n",
       "      <th>4</th>\n",
       "      <td>Flipkart_Hosur</td>\n",
       "      <td>100.00</td>\n",
       "      <td>365.000</td>\n",
       "      <td>4.934</td>\n",
       "    </tr>\n",
       "  </tbody>\n",
       "</table>\n",
       "</div>"
      ],
      "text/plain": [
       "        Site Name  DC Capacity  Generation  Irradiance\n",
       "0              FM       171.14     511.400       3.896\n",
       "1             SJS         0.00       0.000       0.000\n",
       "2             SJS         0.00       0.000       0.000\n",
       "3             IBS       120.00       0.002       0.000\n",
       "4  Flipkart_Hosur       100.00     365.000       4.934"
      ]
     },
     "execution_count": 50,
     "metadata": {},
     "output_type": "execute_result"
    }
   ],
   "source": [
    "# Rename multiple columns\n",
    "df52 = df51.rename(columns={\n",
    "    'Site ID': 'Site Name',\n",
    "    'kW_DC_Capacity': 'DC Capacity',\n",
    "    'kWh_Daily_Generation': 'Generation',\n",
    "    'kWh_Day_Irradiance': 'Irradiance'\n",
    "})\n",
    "# Remove name after space in 'Site Name' column\n",
    "df52['Site Name'] = df52['Site Name'].str.split().str[0]\n",
    "df52.head()"
   ]
  },
  {
   "cell_type": "code",
   "execution_count": 52,
   "id": "737223f4",
   "metadata": {},
   "outputs": [
    {
     "data": {
      "text/html": [
       "<div>\n",
       "<style scoped>\n",
       "    .dataframe tbody tr th:only-of-type {\n",
       "        vertical-align: middle;\n",
       "    }\n",
       "\n",
       "    .dataframe tbody tr th {\n",
       "        vertical-align: top;\n",
       "    }\n",
       "\n",
       "    .dataframe thead th {\n",
       "        text-align: right;\n",
       "    }\n",
       "</style>\n",
       "<table border=\"1\" class=\"dataframe\">\n",
       "  <thead>\n",
       "    <tr style=\"text-align: right;\">\n",
       "      <th></th>\n",
       "      <th>Site Name</th>\n",
       "      <th>DC Capacity</th>\n",
       "      <th>Generation</th>\n",
       "      <th>Irradiance</th>\n",
       "    </tr>\n",
       "  </thead>\n",
       "  <tbody>\n",
       "    <tr>\n",
       "      <th>0</th>\n",
       "      <td>Nitte</td>\n",
       "      <td>483.00</td>\n",
       "      <td>1808.0</td>\n",
       "      <td>NaN</td>\n",
       "    </tr>\n",
       "    <tr>\n",
       "      <th>1</th>\n",
       "      <td>IBM</td>\n",
       "      <td>52.00</td>\n",
       "      <td>132.0</td>\n",
       "      <td>NaN</td>\n",
       "    </tr>\n",
       "    <tr>\n",
       "      <th>2</th>\n",
       "      <td>District</td>\n",
       "      <td>60.06</td>\n",
       "      <td>271.0</td>\n",
       "      <td>NaN</td>\n",
       "    </tr>\n",
       "    <tr>\n",
       "      <th>3</th>\n",
       "      <td>District</td>\n",
       "      <td>70.00</td>\n",
       "      <td>363.9</td>\n",
       "      <td>NaN</td>\n",
       "    </tr>\n",
       "    <tr>\n",
       "      <th>4</th>\n",
       "      <td>Gateway</td>\n",
       "      <td>140.00</td>\n",
       "      <td>361.7</td>\n",
       "      <td>NaN</td>\n",
       "    </tr>\n",
       "  </tbody>\n",
       "</table>\n",
       "</div>"
      ],
      "text/plain": [
       "  Site Name  DC Capacity  Generation  Irradiance\n",
       "0     Nitte       483.00      1808.0         NaN\n",
       "1       IBM        52.00       132.0         NaN\n",
       "2  District        60.06       271.0         NaN\n",
       "3  District        70.00       363.9         NaN\n",
       "4   Gateway       140.00       361.7         NaN"
      ]
     },
     "execution_count": 52,
     "metadata": {},
     "output_type": "execute_result"
    }
   ],
   "source": [
    "# Appending the both files sungrow and wattmon\n",
    "result = pd.concat([df2, df52], ignore_index=True)\n",
    "df100=result\n",
    "df100.head()"
   ]
  },
  {
   "cell_type": "markdown",
   "id": "8bfa71cb",
   "metadata": {},
   "source": [
    "### Save the DataFrame to an Excel file\n",
    "df100.to_excel(\"output.xlsx\", index=False)"
   ]
  },
  {
   "cell_type": "code",
   "execution_count": 53,
   "id": "ec5486de",
   "metadata": {
    "scrolled": true
   },
   "outputs": [
    {
     "name": "stderr",
     "output_type": "stream",
     "text": [
      "C:\\ProgramData\\anaconda3\\Lib\\site-packages\\openpyxl\\styles\\stylesheet.py:226: UserWarning: Workbook contains no default style, apply openpyxl's default\n",
      "  warn(\"Workbook contains no default style, apply openpyxl's default\")\n"
     ]
    }
   ],
   "source": [
    "# importing the solaredge file and removing the starting rows\n",
    "df21 = pd.read_excel(\"20.xlsx\",skiprows = 9)\n",
    "df21 = df21[:-1]\n"
   ]
  },
  {
   "cell_type": "code",
   "execution_count": 54,
   "id": "4406c8b9",
   "metadata": {},
   "outputs": [
    {
     "data": {
      "text/plain": [
       "Index(['#', 'Site Name', 'Peak Power (kWp)', 'Highest Alert Impact', 'kWh',\n",
       "       'kWh/kWp'],\n",
       "      dtype='object')"
      ]
     },
     "execution_count": 54,
     "metadata": {},
     "output_type": "execute_result"
    }
   ],
   "source": [
    "df21.columns"
   ]
  },
  {
   "cell_type": "code",
   "execution_count": 55,
   "id": "d8f7cffa",
   "metadata": {},
   "outputs": [],
   "source": [
    "#removing the extra columns\n",
    "df21= df21[['Site Name','Peak Power (kWp)','kWh']]\n"
   ]
  },
  {
   "cell_type": "code",
   "execution_count": 56,
   "id": "42d46675",
   "metadata": {},
   "outputs": [
    {
     "data": {
      "text/html": [
       "<div>\n",
       "<style scoped>\n",
       "    .dataframe tbody tr th:only-of-type {\n",
       "        vertical-align: middle;\n",
       "    }\n",
       "\n",
       "    .dataframe tbody tr th {\n",
       "        vertical-align: top;\n",
       "    }\n",
       "\n",
       "    .dataframe thead th {\n",
       "        text-align: right;\n",
       "    }\n",
       "</style>\n",
       "<table border=\"1\" class=\"dataframe\">\n",
       "  <thead>\n",
       "    <tr style=\"text-align: right;\">\n",
       "      <th></th>\n",
       "      <th>Site Name</th>\n",
       "      <th>DC Capacity</th>\n",
       "      <th>Generation</th>\n",
       "    </tr>\n",
       "  </thead>\n",
       "  <tbody>\n",
       "    <tr>\n",
       "      <th>0</th>\n",
       "      <td>Gokaldas</td>\n",
       "      <td>21.12</td>\n",
       "      <td>76.3</td>\n",
       "    </tr>\n",
       "    <tr>\n",
       "      <th>1</th>\n",
       "      <td>Karnal</td>\n",
       "      <td>142.80</td>\n",
       "      <td>0.0</td>\n",
       "    </tr>\n",
       "    <tr>\n",
       "      <th>2</th>\n",
       "      <td>Yamunanagar</td>\n",
       "      <td>143.65</td>\n",
       "      <td>0.4</td>\n",
       "    </tr>\n",
       "  </tbody>\n",
       "</table>\n",
       "</div>"
      ],
      "text/plain": [
       "     Site Name  DC Capacity  Generation\n",
       "0     Gokaldas        21.12        76.3\n",
       "1       Karnal       142.80         0.0\n",
       "2  Yamunanagar       143.65         0.4"
      ]
     },
     "execution_count": 56,
     "metadata": {},
     "output_type": "execute_result"
    }
   ],
   "source": [
    "# Rename multiple columns\n",
    "df22 = df21.rename(columns={\n",
    "    'Site Name': 'Site Name',\n",
    "    'Peak Power (kWp)': 'DC Capacity',\n",
    "    'kWh': 'Generation'\n",
    "})\n",
    "# Remove name after space in 'Site Name' column\n",
    "df22['Site Name'] = df22['Site Name'].str.split().str[0]\n",
    "df22.head()"
   ]
  },
  {
   "cell_type": "code",
   "execution_count": 57,
   "id": "3e188c96",
   "metadata": {},
   "outputs": [
    {
     "data": {
      "text/html": [
       "<div>\n",
       "<style scoped>\n",
       "    .dataframe tbody tr th:only-of-type {\n",
       "        vertical-align: middle;\n",
       "    }\n",
       "\n",
       "    .dataframe tbody tr th {\n",
       "        vertical-align: top;\n",
       "    }\n",
       "\n",
       "    .dataframe thead th {\n",
       "        text-align: right;\n",
       "    }\n",
       "</style>\n",
       "<table border=\"1\" class=\"dataframe\">\n",
       "  <thead>\n",
       "    <tr style=\"text-align: right;\">\n",
       "      <th></th>\n",
       "      <th>Site Name</th>\n",
       "      <th>DC Capacity</th>\n",
       "      <th>Generation</th>\n",
       "      <th>Irradiance</th>\n",
       "    </tr>\n",
       "  </thead>\n",
       "  <tbody>\n",
       "    <tr>\n",
       "      <th>0</th>\n",
       "      <td>Nitte</td>\n",
       "      <td>483.00</td>\n",
       "      <td>1808.0</td>\n",
       "      <td>NaN</td>\n",
       "    </tr>\n",
       "    <tr>\n",
       "      <th>1</th>\n",
       "      <td>IBM</td>\n",
       "      <td>52.00</td>\n",
       "      <td>132.0</td>\n",
       "      <td>NaN</td>\n",
       "    </tr>\n",
       "    <tr>\n",
       "      <th>2</th>\n",
       "      <td>District</td>\n",
       "      <td>60.06</td>\n",
       "      <td>271.0</td>\n",
       "      <td>NaN</td>\n",
       "    </tr>\n",
       "    <tr>\n",
       "      <th>3</th>\n",
       "      <td>District</td>\n",
       "      <td>70.00</td>\n",
       "      <td>363.9</td>\n",
       "      <td>NaN</td>\n",
       "    </tr>\n",
       "    <tr>\n",
       "      <th>4</th>\n",
       "      <td>Gateway</td>\n",
       "      <td>140.00</td>\n",
       "      <td>361.7</td>\n",
       "      <td>NaN</td>\n",
       "    </tr>\n",
       "  </tbody>\n",
       "</table>\n",
       "</div>"
      ],
      "text/plain": [
       "  Site Name  DC Capacity  Generation  Irradiance\n",
       "0     Nitte       483.00      1808.0         NaN\n",
       "1       IBM        52.00       132.0         NaN\n",
       "2  District        60.06       271.0         NaN\n",
       "3  District        70.00       363.9         NaN\n",
       "4   Gateway       140.00       361.7         NaN"
      ]
     },
     "execution_count": 57,
     "metadata": {},
     "output_type": "execute_result"
    }
   ],
   "source": [
    "# Appending the 3 files sungrow,wattmon,solaredge\n",
    "result1 = pd.concat([df2,df52,df22], ignore_index=True)\n",
    "df200=result1\n",
    "df200.head()"
   ]
  },
  {
   "cell_type": "code",
   "execution_count": 58,
   "id": "cdf3e137",
   "metadata": {},
   "outputs": [],
   "source": [
    "# importing the Huawei file and removing the starting rows\n",
    "df31 = pd.read_excel(\"30.xlsx\",skiprows = 1)\n"
   ]
  },
  {
   "cell_type": "code",
   "execution_count": 59,
   "id": "062eb71b",
   "metadata": {},
   "outputs": [
    {
     "data": {
      "text/plain": [
       "Index(['Plant Name', 'Address', 'Total String Capacity (kWp)',\n",
       "       'Global Irradiation (kWh/㎡)', 'Sun Hours (H)',\n",
       "       'Average Temperature(°C)', 'Theoretical Yield (kWh)', 'PV Yield (kWh)',\n",
       "       ' Inverter Yield (kWh)', 'Total Yield (kWh)', 'Export (kWh)',\n",
       "       'Specific Energy (kWh/kWp)', 'Import (kWh)',\n",
       "       'Loss Due to Export Limitation (kWh)',\n",
       "       'Loss Due to Export Limitation(Rs.)', 'Consumption (kWh)',\n",
       "       'Self-consumption (kWh)', 'Self-consumption Rate (%)',\n",
       "       'Peak Power (kW)', 'Performance Ratio(%)', 'Load Rate (%)',\n",
       "       'CO₂ Avoided (t)', 'Standard Coal Saved (t)', 'Revenue (Rs.)'],\n",
       "      dtype='object')"
      ]
     },
     "execution_count": 59,
     "metadata": {},
     "output_type": "execute_result"
    }
   ],
   "source": [
    "df31.columns"
   ]
  },
  {
   "cell_type": "code",
   "execution_count": 60,
   "id": "d81ff042",
   "metadata": {},
   "outputs": [],
   "source": [
    "#removing the extra columns\n",
    "df31= df31[['Plant Name','Total String Capacity (kWp)','PV Yield (kWh)']]\n"
   ]
  },
  {
   "cell_type": "code",
   "execution_count": 61,
   "id": "9ca35543",
   "metadata": {},
   "outputs": [
    {
     "data": {
      "text/html": [
       "<div>\n",
       "<style scoped>\n",
       "    .dataframe tbody tr th:only-of-type {\n",
       "        vertical-align: middle;\n",
       "    }\n",
       "\n",
       "    .dataframe tbody tr th {\n",
       "        vertical-align: top;\n",
       "    }\n",
       "\n",
       "    .dataframe thead th {\n",
       "        text-align: right;\n",
       "    }\n",
       "</style>\n",
       "<table border=\"1\" class=\"dataframe\">\n",
       "  <thead>\n",
       "    <tr style=\"text-align: right;\">\n",
       "      <th></th>\n",
       "      <th>Site Name</th>\n",
       "      <th>DC Capacity</th>\n",
       "      <th>Generation</th>\n",
       "    </tr>\n",
       "  </thead>\n",
       "  <tbody>\n",
       "    <tr>\n",
       "      <th>0</th>\n",
       "      <td>U</td>\n",
       "      <td>399.400</td>\n",
       "      <td>396.85</td>\n",
       "    </tr>\n",
       "    <tr>\n",
       "      <th>1</th>\n",
       "      <td>U</td>\n",
       "      <td>550.405</td>\n",
       "      <td>1606.22</td>\n",
       "    </tr>\n",
       "  </tbody>\n",
       "</table>\n",
       "</div>"
      ],
      "text/plain": [
       "  Site Name  DC Capacity  Generation\n",
       "0         U      399.400      396.85\n",
       "1         U      550.405     1606.22"
      ]
     },
     "execution_count": 61,
     "metadata": {},
     "output_type": "execute_result"
    }
   ],
   "source": [
    "# Rename multiple columns\n",
    "df32 = df31.rename(columns={\n",
    "    'Plant Name': 'Site Name',\n",
    "    'Total String Capacity (kWp)': 'DC Capacity',\n",
    "    'PV Yield (kWh)': 'Generation'\n",
    "})\n",
    "# Remove name after space in 'Site Name' column\n",
    "df32['Site Name'] = df32['Site Name'].str.split().str[0]\n",
    "df32.head()"
   ]
  },
  {
   "cell_type": "code",
   "execution_count": 62,
   "id": "f845fa54",
   "metadata": {},
   "outputs": [
    {
     "data": {
      "text/html": [
       "<div>\n",
       "<style scoped>\n",
       "    .dataframe tbody tr th:only-of-type {\n",
       "        vertical-align: middle;\n",
       "    }\n",
       "\n",
       "    .dataframe tbody tr th {\n",
       "        vertical-align: top;\n",
       "    }\n",
       "\n",
       "    .dataframe thead th {\n",
       "        text-align: right;\n",
       "    }\n",
       "</style>\n",
       "<table border=\"1\" class=\"dataframe\">\n",
       "  <thead>\n",
       "    <tr style=\"text-align: right;\">\n",
       "      <th></th>\n",
       "      <th>Site Name</th>\n",
       "      <th>DC Capacity</th>\n",
       "      <th>Generation</th>\n",
       "      <th>Irradiance</th>\n",
       "    </tr>\n",
       "  </thead>\n",
       "  <tbody>\n",
       "    <tr>\n",
       "      <th>0</th>\n",
       "      <td>Nitte</td>\n",
       "      <td>483.00</td>\n",
       "      <td>1808.0</td>\n",
       "      <td>NaN</td>\n",
       "    </tr>\n",
       "    <tr>\n",
       "      <th>1</th>\n",
       "      <td>IBM</td>\n",
       "      <td>52.00</td>\n",
       "      <td>132.0</td>\n",
       "      <td>NaN</td>\n",
       "    </tr>\n",
       "    <tr>\n",
       "      <th>2</th>\n",
       "      <td>District</td>\n",
       "      <td>60.06</td>\n",
       "      <td>271.0</td>\n",
       "      <td>NaN</td>\n",
       "    </tr>\n",
       "    <tr>\n",
       "      <th>3</th>\n",
       "      <td>District</td>\n",
       "      <td>70.00</td>\n",
       "      <td>363.9</td>\n",
       "      <td>NaN</td>\n",
       "    </tr>\n",
       "    <tr>\n",
       "      <th>4</th>\n",
       "      <td>Gateway</td>\n",
       "      <td>140.00</td>\n",
       "      <td>361.7</td>\n",
       "      <td>NaN</td>\n",
       "    </tr>\n",
       "  </tbody>\n",
       "</table>\n",
       "</div>"
      ],
      "text/plain": [
       "  Site Name  DC Capacity  Generation  Irradiance\n",
       "0     Nitte       483.00      1808.0         NaN\n",
       "1       IBM        52.00       132.0         NaN\n",
       "2  District        60.06       271.0         NaN\n",
       "3  District        70.00       363.9         NaN\n",
       "4   Gateway       140.00       361.7         NaN"
      ]
     },
     "execution_count": 62,
     "metadata": {},
     "output_type": "execute_result"
    }
   ],
   "source": [
    "# Appending the 4 files sungrow,wattmon,solaredge,huawei\n",
    "result2 = pd.concat([df2,df22,df32,df52], ignore_index=True)\n",
    "df300=result2\n",
    "df300.head()"
   ]
  },
  {
   "cell_type": "markdown",
   "id": "391cb220",
   "metadata": {},
   "source": [
    "# Intermediate Output-1"
   ]
  },
  {
   "cell_type": "markdown",
   "id": "b1ea0797",
   "metadata": {},
   "source": [
    "# Save the DataFrame to an Excel file\n",
    "df300.to_excel(\"output2.xlsx\", index=True, startrow=1)"
   ]
  },
  {
   "cell_type": "code",
   "execution_count": 63,
   "id": "fa5c93c6",
   "metadata": {},
   "outputs": [
    {
     "data": {
      "text/plain": [
       "Index(['Site Name', 'DC Capacity', 'Generation', 'Irradiance'], dtype='object')"
      ]
     },
     "execution_count": 63,
     "metadata": {},
     "output_type": "execute_result"
    }
   ],
   "source": [
    "df300.columns"
   ]
  },
  {
   "cell_type": "code",
   "execution_count": 64,
   "id": "084e05f9",
   "metadata": {},
   "outputs": [
    {
     "data": {
      "text/html": [
       "<div>\n",
       "<style scoped>\n",
       "    .dataframe tbody tr th:only-of-type {\n",
       "        vertical-align: middle;\n",
       "    }\n",
       "\n",
       "    .dataframe tbody tr th {\n",
       "        vertical-align: top;\n",
       "    }\n",
       "\n",
       "    .dataframe thead th {\n",
       "        text-align: right;\n",
       "    }\n",
       "</style>\n",
       "<table border=\"1\" class=\"dataframe\">\n",
       "  <thead>\n",
       "    <tr style=\"text-align: right;\">\n",
       "      <th></th>\n",
       "      <th>Site Name</th>\n",
       "      <th>DC Capacity</th>\n",
       "      <th>Generation</th>\n",
       "      <th>Irradiance</th>\n",
       "      <th>Yield</th>\n",
       "    </tr>\n",
       "  </thead>\n",
       "  <tbody>\n",
       "    <tr>\n",
       "      <th>0</th>\n",
       "      <td>Nitte</td>\n",
       "      <td>483.00</td>\n",
       "      <td>1808.0</td>\n",
       "      <td>NaN</td>\n",
       "      <td>3.74</td>\n",
       "    </tr>\n",
       "    <tr>\n",
       "      <th>1</th>\n",
       "      <td>IBM</td>\n",
       "      <td>52.00</td>\n",
       "      <td>132.0</td>\n",
       "      <td>NaN</td>\n",
       "      <td>2.54</td>\n",
       "    </tr>\n",
       "    <tr>\n",
       "      <th>2</th>\n",
       "      <td>District</td>\n",
       "      <td>60.06</td>\n",
       "      <td>271.0</td>\n",
       "      <td>NaN</td>\n",
       "      <td>4.51</td>\n",
       "    </tr>\n",
       "    <tr>\n",
       "      <th>3</th>\n",
       "      <td>District</td>\n",
       "      <td>70.00</td>\n",
       "      <td>363.9</td>\n",
       "      <td>NaN</td>\n",
       "      <td>5.20</td>\n",
       "    </tr>\n",
       "    <tr>\n",
       "      <th>4</th>\n",
       "      <td>Gateway</td>\n",
       "      <td>140.00</td>\n",
       "      <td>361.7</td>\n",
       "      <td>NaN</td>\n",
       "      <td>2.58</td>\n",
       "    </tr>\n",
       "  </tbody>\n",
       "</table>\n",
       "</div>"
      ],
      "text/plain": [
       "  Site Name  DC Capacity  Generation  Irradiance  Yield\n",
       "0     Nitte       483.00      1808.0         NaN   3.74\n",
       "1       IBM        52.00       132.0         NaN   2.54\n",
       "2  District        60.06       271.0         NaN   4.51\n",
       "3  District        70.00       363.9         NaN   5.20\n",
       "4   Gateway       140.00       361.7         NaN   2.58"
      ]
     },
     "execution_count": 64,
     "metadata": {},
     "output_type": "execute_result"
    }
   ],
   "source": [
    "# Adding Yield column in DataFrame\n",
    "df300['Yield'] = df300['Generation'] / df300['DC Capacity']\n",
    "# Round the 'Yield' column to 2 decimal places\n",
    "df300['Yield'] = df300['Yield'].round(2)\n",
    "df300.head()\n"
   ]
  },
  {
   "cell_type": "code",
   "execution_count": 65,
   "id": "3069bd90",
   "metadata": {},
   "outputs": [
    {
     "data": {
      "text/html": [
       "<div>\n",
       "<style scoped>\n",
       "    .dataframe tbody tr th:only-of-type {\n",
       "        vertical-align: middle;\n",
       "    }\n",
       "\n",
       "    .dataframe tbody tr th {\n",
       "        vertical-align: top;\n",
       "    }\n",
       "\n",
       "    .dataframe thead th {\n",
       "        text-align: right;\n",
       "    }\n",
       "</style>\n",
       "<table border=\"1\" class=\"dataframe\">\n",
       "  <thead>\n",
       "    <tr style=\"text-align: right;\">\n",
       "      <th></th>\n",
       "      <th>Site Name</th>\n",
       "      <th>DC Capacity</th>\n",
       "      <th>Generation</th>\n",
       "      <th>Irradiance</th>\n",
       "      <th>Yield</th>\n",
       "      <th>PR</th>\n",
       "    </tr>\n",
       "  </thead>\n",
       "  <tbody>\n",
       "    <tr>\n",
       "      <th>0</th>\n",
       "      <td>Nitte</td>\n",
       "      <td>483.00</td>\n",
       "      <td>1808.0</td>\n",
       "      <td>NaN</td>\n",
       "      <td>3.74</td>\n",
       "      <td>NaN</td>\n",
       "    </tr>\n",
       "    <tr>\n",
       "      <th>1</th>\n",
       "      <td>IBM</td>\n",
       "      <td>52.00</td>\n",
       "      <td>132.0</td>\n",
       "      <td>NaN</td>\n",
       "      <td>2.54</td>\n",
       "      <td>NaN</td>\n",
       "    </tr>\n",
       "    <tr>\n",
       "      <th>2</th>\n",
       "      <td>District</td>\n",
       "      <td>60.06</td>\n",
       "      <td>271.0</td>\n",
       "      <td>NaN</td>\n",
       "      <td>4.51</td>\n",
       "      <td>NaN</td>\n",
       "    </tr>\n",
       "    <tr>\n",
       "      <th>3</th>\n",
       "      <td>District</td>\n",
       "      <td>70.00</td>\n",
       "      <td>363.9</td>\n",
       "      <td>NaN</td>\n",
       "      <td>5.20</td>\n",
       "      <td>NaN</td>\n",
       "    </tr>\n",
       "    <tr>\n",
       "      <th>4</th>\n",
       "      <td>Gateway</td>\n",
       "      <td>140.00</td>\n",
       "      <td>361.7</td>\n",
       "      <td>NaN</td>\n",
       "      <td>2.58</td>\n",
       "      <td>NaN</td>\n",
       "    </tr>\n",
       "  </tbody>\n",
       "</table>\n",
       "</div>"
      ],
      "text/plain": [
       "  Site Name  DC Capacity  Generation  Irradiance  Yield  PR\n",
       "0     Nitte       483.00      1808.0         NaN   3.74 NaN\n",
       "1       IBM        52.00       132.0         NaN   2.54 NaN\n",
       "2  District        60.06       271.0         NaN   4.51 NaN\n",
       "3  District        70.00       363.9         NaN   5.20 NaN\n",
       "4   Gateway       140.00       361.7         NaN   2.58 NaN"
      ]
     },
     "execution_count": 65,
     "metadata": {},
     "output_type": "execute_result"
    }
   ],
   "source": [
    "# adding PR column to df300 \n",
    "df300['PR'] = (df300['Yield'] / df300['Irradiance'])*100\n",
    "# Round the 'PR' column to 2 decimal places\n",
    "df300['PR'] = df300['PR'].round(2)\n",
    "df300.head()"
   ]
  },
  {
   "cell_type": "code",
   "execution_count": 66,
   "id": "80192954",
   "metadata": {},
   "outputs": [
    {
     "data": {
      "text/html": [
       "<div>\n",
       "<style scoped>\n",
       "    .dataframe tbody tr th:only-of-type {\n",
       "        vertical-align: middle;\n",
       "    }\n",
       "\n",
       "    .dataframe tbody tr th {\n",
       "        vertical-align: top;\n",
       "    }\n",
       "\n",
       "    .dataframe thead th {\n",
       "        text-align: right;\n",
       "    }\n",
       "</style>\n",
       "<table border=\"1\" class=\"dataframe\">\n",
       "  <thead>\n",
       "    <tr style=\"text-align: right;\">\n",
       "      <th></th>\n",
       "      <th>Site Name</th>\n",
       "      <th>DC Capacity</th>\n",
       "      <th>Generation</th>\n",
       "      <th>Irradiance</th>\n",
       "      <th>Yield</th>\n",
       "      <th>PR</th>\n",
       "    </tr>\n",
       "  </thead>\n",
       "  <tbody>\n",
       "    <tr>\n",
       "      <th>0</th>\n",
       "      <td>Nitte</td>\n",
       "      <td>483.00</td>\n",
       "      <td>1808.0</td>\n",
       "      <td>0.0</td>\n",
       "      <td>3.74</td>\n",
       "      <td>0.0</td>\n",
       "    </tr>\n",
       "    <tr>\n",
       "      <th>1</th>\n",
       "      <td>IBM</td>\n",
       "      <td>52.00</td>\n",
       "      <td>132.0</td>\n",
       "      <td>0.0</td>\n",
       "      <td>2.54</td>\n",
       "      <td>0.0</td>\n",
       "    </tr>\n",
       "    <tr>\n",
       "      <th>2</th>\n",
       "      <td>District</td>\n",
       "      <td>60.06</td>\n",
       "      <td>271.0</td>\n",
       "      <td>0.0</td>\n",
       "      <td>4.51</td>\n",
       "      <td>0.0</td>\n",
       "    </tr>\n",
       "    <tr>\n",
       "      <th>3</th>\n",
       "      <td>District</td>\n",
       "      <td>70.00</td>\n",
       "      <td>363.9</td>\n",
       "      <td>0.0</td>\n",
       "      <td>5.20</td>\n",
       "      <td>0.0</td>\n",
       "    </tr>\n",
       "    <tr>\n",
       "      <th>4</th>\n",
       "      <td>Gateway</td>\n",
       "      <td>140.00</td>\n",
       "      <td>361.7</td>\n",
       "      <td>0.0</td>\n",
       "      <td>2.58</td>\n",
       "      <td>0.0</td>\n",
       "    </tr>\n",
       "  </tbody>\n",
       "</table>\n",
       "</div>"
      ],
      "text/plain": [
       "  Site Name  DC Capacity  Generation  Irradiance  Yield   PR\n",
       "0     Nitte       483.00      1808.0         0.0   3.74  0.0\n",
       "1       IBM        52.00       132.0         0.0   2.54  0.0\n",
       "2  District        60.06       271.0         0.0   4.51  0.0\n",
       "3  District        70.00       363.9         0.0   5.20  0.0\n",
       "4   Gateway       140.00       361.7         0.0   2.58  0.0"
      ]
     },
     "execution_count": 66,
     "metadata": {},
     "output_type": "execute_result"
    }
   ],
   "source": [
    "# Replace NaN or empty cells with 0\n",
    "df300 = df300.fillna(0)\n",
    "\n",
    "# Replace infinity (inf) values with 0 in the 'PR' column\n",
    "df300['PR'] = df300['PR'].replace([float('inf')], 0)\n",
    "df300.head()"
   ]
  },
  {
   "cell_type": "code",
   "execution_count": 69,
   "id": "78d2fa38",
   "metadata": {},
   "outputs": [
    {
     "data": {
      "text/html": [
       "<div>\n",
       "<style scoped>\n",
       "    .dataframe tbody tr th:only-of-type {\n",
       "        vertical-align: middle;\n",
       "    }\n",
       "\n",
       "    .dataframe tbody tr th {\n",
       "        vertical-align: top;\n",
       "    }\n",
       "\n",
       "    .dataframe thead th {\n",
       "        text-align: right;\n",
       "    }\n",
       "</style>\n",
       "<table border=\"1\" class=\"dataframe\">\n",
       "  <thead>\n",
       "    <tr style=\"text-align: right;\">\n",
       "      <th></th>\n",
       "      <th>Site Name</th>\n",
       "      <th>DC Capacity</th>\n",
       "      <th>Generation</th>\n",
       "      <th>Irradiance</th>\n",
       "      <th>Yield</th>\n",
       "      <th>PR</th>\n",
       "    </tr>\n",
       "  </thead>\n",
       "  <tbody>\n",
       "    <tr>\n",
       "      <th>0</th>\n",
       "      <td>Nitte</td>\n",
       "      <td>483.00</td>\n",
       "      <td>1808.0</td>\n",
       "      <td>0.0</td>\n",
       "      <td>3.74</td>\n",
       "      <td>0.0</td>\n",
       "    </tr>\n",
       "    <tr>\n",
       "      <th>1</th>\n",
       "      <td>IBM</td>\n",
       "      <td>52.00</td>\n",
       "      <td>132.0</td>\n",
       "      <td>0.0</td>\n",
       "      <td>2.54</td>\n",
       "      <td>0.0</td>\n",
       "    </tr>\n",
       "    <tr>\n",
       "      <th>2</th>\n",
       "      <td>District</td>\n",
       "      <td>60.06</td>\n",
       "      <td>271.0</td>\n",
       "      <td>0.0</td>\n",
       "      <td>4.51</td>\n",
       "      <td>0.0</td>\n",
       "    </tr>\n",
       "    <tr>\n",
       "      <th>3</th>\n",
       "      <td>District</td>\n",
       "      <td>70.00</td>\n",
       "      <td>363.9</td>\n",
       "      <td>0.0</td>\n",
       "      <td>5.20</td>\n",
       "      <td>0.0</td>\n",
       "    </tr>\n",
       "    <tr>\n",
       "      <th>4</th>\n",
       "      <td>Gateway</td>\n",
       "      <td>140.00</td>\n",
       "      <td>361.7</td>\n",
       "      <td>0.0</td>\n",
       "      <td>2.58</td>\n",
       "      <td>0.0</td>\n",
       "    </tr>\n",
       "  </tbody>\n",
       "</table>\n",
       "</div>"
      ],
      "text/plain": [
       "  Site Name  DC Capacity  Generation  Irradiance  Yield   PR\n",
       "0     Nitte       483.00      1808.0         0.0   3.74  0.0\n",
       "1       IBM        52.00       132.0         0.0   2.54  0.0\n",
       "2  District        60.06       271.0         0.0   4.51  0.0\n",
       "3  District        70.00       363.9         0.0   5.20  0.0\n",
       "4   Gateway       140.00       361.7         0.0   2.58  0.0"
      ]
     },
     "execution_count": 69,
     "metadata": {},
     "output_type": "execute_result"
    }
   ],
   "source": [
    "# Wattmon capex sites removing\n",
    "#values_to_remove = ['FM', 'SJS 2', 'SJS 1', 'IBS','SEL 14-CHENNAI','LIPL','SEL 15-Rajasthan','ZF_CHENNAI','ZF_COIMBATORE','SEL 16-Kolar','SEL 8-Bommasandra','SEL 11-Ahmedabad','GT Yamunanagar']\n",
    "\n",
    "# Remove rows with the specified values in the 'Site Name' column\n",
    "df300 = df300[~df300['Site Name'].isin(values_to_remove)]\n",
    "df300.head()"
   ]
  },
  {
   "cell_type": "code",
   "execution_count": 71,
   "id": "d2590c92",
   "metadata": {},
   "outputs": [],
   "source": [
    "# Sort the DataFrame in descending order by 'DC Capacity' column\n",
    "df300 = df300.sort_values(by='DC Capacity', ascending=False)\n"
   ]
  },
  {
   "cell_type": "code",
   "execution_count": 72,
   "id": "6e47f78c",
   "metadata": {},
   "outputs": [],
   "source": [
    "# Reset the index and remove the old index column\n",
    "df400 = df300.reset_index(drop=True)\n",
    "\n",
    "# Create the 'Serial No' column\n",
    "df400.insert(0, 'Serial No', range(1, len(df300) + 1))\n",
    "\n",
    "# df400"
   ]
  },
  {
   "cell_type": "markdown",
   "id": "af553160",
   "metadata": {},
   "source": [
    "#removing the extra columns\n",
    "df300= df300[[ 'Serial No','Site Name', 'DC Capacity', 'Generation', 'Irradiance', 'Yield', 'PR'\n",
    "      ]]\n",
    "df300.head()"
   ]
  },
  {
   "cell_type": "markdown",
   "id": "3656643d",
   "metadata": {},
   "source": [
    "# Save the DataFrame to an Excel file\n",
    "df300.to_excel(\"output10.xlsx\", index=True, startrow=1)"
   ]
  },
  {
   "cell_type": "markdown",
   "id": "94a456e6",
   "metadata": {},
   "source": [
    "### Sort the DataFrame in descending order by 'DC Capacity'\n",
    "df400 = df300.sort_values(by='DC Capacity', ascending=False)\n",
    "\n",
    "# Reset the index and rename the index column\n",
    "df400 = df400.reset_index(drop=True)\n",
    "df400.index = df400.index + 1\n",
    "df400.index.name = 'S No'\n",
    "df400.head()"
   ]
  },
  {
   "cell_type": "code",
   "execution_count": 73,
   "id": "c743ca2e",
   "metadata": {},
   "outputs": [
    {
     "data": {
      "text/plain": [
       "Index(['Serial No', 'Site Name', 'DC Capacity', 'Generation', 'Irradiance',\n",
       "       'Yield', 'PR'],\n",
       "      dtype='object')"
      ]
     },
     "execution_count": 73,
     "metadata": {},
     "output_type": "execute_result"
    }
   ],
   "source": [
    "df400.columns"
   ]
  },
  {
   "cell_type": "code",
   "execution_count": 74,
   "id": "771389d5",
   "metadata": {},
   "outputs": [],
   "source": [
    "# Save the DataFrame to an Excel file\n",
    "#df300.to_excel(\"DGR.xlsx\", index=False, startrow=1)"
   ]
  },
  {
   "cell_type": "code",
   "execution_count": 75,
   "id": "fb124b33",
   "metadata": {},
   "outputs": [],
   "source": [
    "# Remove rows with non-numeric values in the columns you want to sum\n",
    "df = df400[pd.to_numeric(df400['DC Capacity'], errors='coerce').notna()]\n",
    "df = df400[pd.to_numeric(df400['Generation'], errors='coerce').notna()]\n",
    "\n",
    "# Calculate the sum for 'DC Capacity' and 'Generation' columns\n",
    "sum_values = df[['DC Capacity', 'Generation']].sum()\n",
    "\n",
    "# Calculate the average for 'Irradiance', 'Yield', and 'PR' columns\n",
    "average_values = df[['Irradiance', 'Yield', 'PR']].mean()\n",
    "\n",
    "# Add a new row with 'Total' values using the loc method\n",
    "df.loc['Total'] = ['','Total', sum_values['DC Capacity'], sum_values['Generation'],\n",
    "                   average_values['Irradiance'], average_values['Yield'], average_values['PR']]\n",
    "\n",
    "# Save the updated DataFrame to a new Excel file\n",
    "#df.to_excel(\"DGR_with_summary.xlsx\", index=True)\n"
   ]
  },
  {
   "cell_type": "code",
   "execution_count": 76,
   "id": "03510257",
   "metadata": {},
   "outputs": [],
   "source": [
    "# Convert the 'Yield' column to numeric (if it contains numeric values)\n",
    "df400['Yield'] = pd.to_numeric(df400['Yield'], errors='coerce')"
   ]
  },
  {
   "cell_type": "code",
   "execution_count": 82,
   "id": "a767762f",
   "metadata": {},
   "outputs": [],
   "source": [
    "# Define a function to apply cell colors based on values\n",
    "def highlight_yield(value):\n",
    "    if 0 <= value < 3:\n",
    "        return 'background-color: lightcoral'\n",
    "    elif 3 <= value < 4:\n",
    "        return 'background-color: #fcf75e'\n",
    "    elif 4 <= value < 6:\n",
    "        return 'background-color: lightgreen'\n",
    "    else:\n",
    "        return ''\n",
    "\n",
    "# Apply the cell coloring to the 'Yield' column\n",
    "styled_df = df.style.applymap(highlight_yield, subset=['Yield'])\n",
    "\n",
    "# Display the styled DataFrame\n",
    "#styled_df\n"
   ]
  },
  {
   "cell_type": "markdown",
   "id": "f04b4db6",
   "metadata": {},
   "source": [
    "\n",
    "# Define a function to apply cell colors based on values in the 'PR' column\n",
    "def highlight_pr(value):\n",
    "    if 0 <= value < 60:\n",
    "        return 'background-color: lightcoral'\n",
    "    elif 60 <= value < 80:\n",
    "        return 'background-color: palegoldenrod'\n",
    "    elif 80 <= value < 150:\n",
    "        return 'background-color: lightgreen'\n",
    "    else:\n",
    "        return ''\n",
    "\n",
    "# Apply the cell coloring to the 'PR' column\n",
    "styled_df = styled_df.applymap(highlight_pr, subset=['PR'])\n",
    "\n",
    "# Display the styled DataFrame\n",
    "styled_df\n"
   ]
  },
  {
   "cell_type": "code",
   "execution_count": 83,
   "id": "b5eb1b01",
   "metadata": {},
   "outputs": [],
   "source": [
    "# Save the DataFrame to an Excel file\n",
    "styled_df.to_excel(\"DGR.xlsx\", index=False, startrow=1)\n"
   ]
  },
  {
   "cell_type": "markdown",
   "id": "3f0086fd",
   "metadata": {},
   "source": [
    "# Sort the DataFrame in descending order by 'DC Capacity' column\n",
    "df = df.sort_values(by='DC Capacity', ascending=False)\n",
    "\n",
    "# Display the sorted DataFrame\n",
    "df\n"
   ]
  },
  {
   "cell_type": "markdown",
   "id": "ff74c2d6",
   "metadata": {},
   "source": [
    "# Save the sorted DataFrame to an Excel file without the index column\n",
    "df.to_excel(\"sorted_DGR.xlsx\", index=False)\n"
   ]
  },
  {
   "cell_type": "code",
   "execution_count": null,
   "id": "1564d438",
   "metadata": {},
   "outputs": [],
   "source": []
  }
 ],
 "metadata": {
  "kernelspec": {
   "display_name": "Python 3 (ipykernel)",
   "language": "python",
   "name": "python3"
  },
  "language_info": {
   "codemirror_mode": {
    "name": "ipython",
    "version": 3
   },
   "file_extension": ".py",
   "mimetype": "text/x-python",
   "name": "python",
   "nbconvert_exporter": "python",
   "pygments_lexer": "ipython3",
   "version": "3.11.5"
  }
 },
 "nbformat": 4,
 "nbformat_minor": 5
}
